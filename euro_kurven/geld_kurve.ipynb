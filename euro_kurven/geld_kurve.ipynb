{
 "cells": [
  {
   "cell_type": "code",
   "execution_count": 2,
   "id": "6fa8dc5a-f7a9-4a78-926a-d1ed7c25b3b0",
   "metadata": {},
   "outputs": [],
   "source": [
    ":dep ureq = {version = \"0.11.4\"}"
   ]
  },
  {
   "cell_type": "code",
   "execution_count": 3,
   "id": "fc56366f-90c7-4ac9-bb69-48c5b77b36fb",
   "metadata": {},
   "outputs": [
    {
     "name": "stdout",
     "output_type": "stream",
     "text": [
      "Lenght of dataset string 4267, first chars:\n",
      "\n",
      "Data Source in SDW: null\n",
      ",MNA.Q.N.I8.W2.S1.S1.B.B1GQ._Z._Z._Z.EUR.V.N\n",
      ",\"Gross domestic product at market prices - Euro area 19 (fixed composition) - Domestic (home or reference area), Total economy, Euro, Current prices, Non transformed data, Neither seasonally adjusted nor calendar adjusted data\"\n",
      "Collection:,Summed through period (S)\n",
      "Period\\Unit:,[Millions]\n"
     ]
    }
   ],
   "source": [
    "let res = ureq::get(\"https://sdw.ecb.europa.eu/quickviewexport.do?SERIES_KEY=MNA.Q.N.I8.W2.S1.S1.B.B1GQ._Z._Z._Z.EUR.V.N&type=csv\").call().into_string()?;\n",
    "println!(\"Lenght of dataset string {}, first chars:\\n\\n{}\", res.len(), &res[..640]);"
   ]
  },
  {
   "cell_type": "markdown",
   "id": "a0bedcd0-87fd-4a99-b464-39b9438077e4",
   "metadata": {},
   "source": [
    "### Geldkurve.ods\n",
    "\n",
    "Datei `Geldkurve.ods` erklärt:\n",
    "- GDP : Geldkurve_National_accounts-main_aggregates.ods#GDP_and_main_expenditure_components.AO\n",
    "- M1-Currency : Geldkurve_Monetary_aggregates.ods#M1_and_components.B\n",
    "- M1-Deposit : Geldkurve_Monetary_aggregates.ods#M1_and_components.O\n",
    "- M1-Aggregate : Geldkurve_Monetary_aggregates.ods#M1_and_components.AA\n",
    "- M2-Aggregate : Geldkurve_Monetary_aggregates.ods#M2_and_components.N\n",
    "- M3-Aggregate : Geldkurve_Monetary_aggregates.ods#M3_and_components.P\n",
    "- M0-Currency : Geldkurve_Eurosystem_balance_sheet.ods#ECB_and_NCB_contributions_to_the_Eurosystem_statistical_balance_sheet.AK\n",
    "- M0-Deposit : Geldkurve_Eurosystem_balance_sheet.ods#ECB_and_NCB_contributions_to_the_Eurosystem_statistical_balance_sheet.AL\t\n",
    "- Key-Intereset : Geldkurve.ods#FM.D.U2.EUR.4F.KR.MLFR.LEV_data.B\n",
    "\n"
   ]
  },
  {
   "cell_type": "markdown",
   "id": "2a6533b2",
   "metadata": {},
   "source": [
    "### National Accounts\n",
    "\n",
    "ECB Statistical Data Warehouse\n",
    "Navigation Path: \n",
    "Home  >  Macroeconomic and sectoral statistics  >  GDP, output and demand  >  National accounts - main aggregates  >  [GDP and main expenditure components](https://sdw.ecb.europa.eu/browse.do?node=9691186)\n",
    "\n",
    "- GDP : [Millions]\n",
    "  - Series Key : [MNA.Q.N.I8.W2.S1.S1.B.B1GQ._Z._Z._Z.EUR.V.N](https://sdw.ecb.europa.eu/quickview.do?SERIES_KEY=MNA.Q.N.I8.W2.S1.S1.B.B1GQ._Z._Z._Z.EUR.V.N)\n",
    "  - Title : Gross domestic product at market prices\n",
    "  - Title Complement : Gross domestic product at market prices - Euro area 19 (fixed composition) - Domestic (home or reference area), Total economy, Euro, Current prices, Non transformed data, Neither seasonally adjusted nor calendar adjusted data\n",
    "  - Unit : Millions\n",
    "  - Dataset : MNA : National accounts, Main aggregates (Eurostat ESA2010 TP, table 1)\n",
    "  - Frequency : Quarterly\n",
    "  - Reference area : Euro area 19 (fixed composition) as of 1 January 2015 (I8)\n",
    "  - Compiling organisation : European Commission (including Eurostat) (4D0)\n",
    "  - Decimals : Two (2)\n",
    "  - Reference period detail : Calendar year (C)\n",
    "  - Time period collection : Summed through period (S)\n",
    "\n",
    "Hier ist ein Link mit einem Filter, der einen anderen Eintrag für das BIP enthält als ich bisher verwendet habe: [[U2] Euro area (Memberstates and Institutions of the Euro area) changing composition](https://sdw.ecb.europa.eu/browse.do?org.apache.struts.taglib.html.TOKEN=e382489c6bb330f4e6ad89d4b97d5656&df=true&ec=&dc=&oc=&pb=&rc=&DATASET=0&removeItem=&removedItemList=&mergeFilter=&activeTab=MNA&showHide=&REF_AREA.249=U2&MAX_DOWNLOAD_SERIES=500&SERIES_MAX_NUM=50&node=9691186&legendPub=published&legendNor=&ajaxTab=true): [MNA.A.N.U2.W2.S1.S1.B.B1GQ._Z._Z._Z.EUR.V.N](https://sdw.ecb.europa.eu/quickview.do?SERIES_KEY=MNA.A.N.U2.W2.S1.S1.B.B1GQ._Z._Z._Z.EUR.V.N). Dieser Eintrag wird in Publikationen verwendet. Beim zweiten Blick sehe ich, die bisher verwendete Datenserie enthält das BIP per Quartal (*Quarterly*), diese Serie per Jahr (*Annual*). Für die \"[U2] Euro area\" gibt es auch noch eine Serie per Quartal: [MNA.Q.N.U2.W2.S1.S1.B.B1GQ._Z._Z._Z.EUR.V.N](https://sdw.ecb.europa.eu/quickview.do?SERIES_KEY=MNA.Q.N.U2.W2.S1.S1.B.B1GQ._Z._Z._Z.EUR.V.N). Diese werde ich nun einsetzen, damit sind alle Datenserien \"[U2] Euro area\" zugeordnet.\n",
    "- Series Key : MNA.Q.N.U2.W2.S1.S1.B.B1GQ._Z._Z._Z.EUR.V.N\n",
    "- Title : Gross domestic product at market prices\n",
    "- Title Complement : Gross domestic product at market prices - Euro area (Member States and Institutions of the Euro Area) changing composition - Domestic (home or reference area), Total economy, Euro, Current prices, Non transformed data, Neither seasonally adjusted nor calendar adjusted data\n",
    "- Unit : Millions\n",
    "- Dataset : MNA : National accounts, Main aggregates (Eurostat ESA2010 TP, table 1)\n",
    "- Frequency : Quarterly\n",
    "- Reference area : Euro area (Member States and Institutions of the Euro Area) changing composition (U2)\n",
    "- Compiling organisation : European Commission (including Eurostat) (4D0)\n",
    "- Decimals : Two (2)\n",
    "- Reference period detail : Calendar year (C)\n",
    "- Time period collection : Summed through period (S)\n",
    "- ECB Last update : 2022-03-08 11:00\n"
   ]
  },
  {
   "cell_type": "markdown",
   "id": "500d6a42",
   "metadata": {},
   "source": [
    "### Euro Area\n",
    "\n",
    "ECB Statistical Data Warehouse\n",
    "Navigation Path:\n",
    "Home  >  ECB/Eurosystem policy and exchange rates  >  [Official interest rates](https://sdw.ecb.europa.eu/browse.do?node=9691107)\n",
    "- Key-Interest : [Percent per annum]\n",
    "  - [FM.D.U2.EUR.4F.KR.MLFR.LEV](https://sdw.ecb.europa.eu/quickview.do?SERIES_KEY=FM.D.U2.EUR.4F.KR.MLFR.LEV)\n",
    "  - Title : ECB Marginal lending facility - date of changes (raw data) - Level\n",
    "  - Title : Complement\tEuro area (changing composition) - Key interest rate - ECB Marginal lending facility - date of changes (raw data) - Level - Euro, provided by ECB\n",
    "  - Unit : Percent per annum\n",
    "  - Dataset : FM : Financial market data\n",
    "  - Frequency : Daily\n",
    "  - Reference area : Euro area (changing composition) (U2)\n",
    "  - Collection indicator : End of period (E)\n",
    "  - Decimals : Four (4)\n",
    "  - ECB Last update : 2022-04-08 06:03\n",
    "\n",
    "Bei dem Link ist schon ein Filter gesetzt, der den Eintrag für den Leitzins enthält \"[U2] Euro area (changing composition)\". Allerdings wird der in keinen Publikationen verwendet.\n"
   ]
  },
  {
   "cell_type": "markdown",
   "id": "5d772c3c",
   "metadata": {},
   "source": [
    "### Monetary Aggregates\n",
    "\n",
    "ECB Statistical Data Warehouse\n",
    "Navigation Path:\n",
    "Home  >  Money, credit and banking  >  Monetary aggregates  >  [M1 and component](https://sdw.ecb.europa.eu/browse.do?node=9691572)\n",
    "- M1-Currency : [Millions]\n",
    "  - Series Key : [BSI.M.U2.N.V.L10.X.1.U2.2300.Z01.E](https://sdw.ecb.europa.eu/quickview.do?SERIES_KEY=BSI.M.U2.N.V.L10.X.1.U2.2300.Z01.E)\n",
    "  - Title : Currency in circulation vis-a-vis euro area non-MFI excl. central gov. reported by MFI & central gov. & post office giro Inst. in the euro area (stock)\n",
    "  - Title Complement : Euro area (changing composition), Outstanding amounts at the end of the period (stocks), MFIs, central government and post office giro institutions reporting sector - Currency in circulation, All currencies combined - Euro area (changing composition) counterpart, Non-MFIs excluding central government sector, denominated in Euro, data Neither seasonally nor working day adjusted\n",
    "  - Unit : Millions of Euro\n",
    "  - Dataset : BSI : Balance Sheet Items\n",
    "  - Frequency : Monthly\n",
    "  - Reference area : Euro area (changing composition) (U2)\n",
    "  - Collection indicator : End of period (E)\n",
    "  - Decimals : Zero (0)\n",
    "  - ECB Last update : 2022-03-25 10:00\n",
    "- M1-Deposit : [Millions]\n",
    "  - Series Key : [BSI.M.U2.N.V.L21.A.1.U2.2300.Z01.E](https://sdw.ecb.europa.eu/quickview.do?SERIES_KEY=BSI.M.U2.N.V.L21.A.1.U2.2300.Z01.E)\n",
    "  - Title : Overnight deposits vis-a-vis euro area non-MFI excl. central gov. reported by MFI & central gov. & post office giro Inst. in the euro area (stock)\n",
    "  - Title Complement : Euro area (changing composition), Outstanding amounts at the end of the period (stocks), MFIs, central government and post office giro institutions reporting sector - Overnight deposits, Total maturity, All currencies combined - Euro area (changing composition) counterpart, Non-MFIs excluding central government sector, denominated in Euro, data Neither seasonally nor working day adjusted\n",
    "  - Unit : Millions of Euro\n",
    "  - Dataset : BSI : Balance Sheet Items\n",
    "  - Frequency : Monthly\n",
    "  - Reference area : Euro area (changing composition) (U2)\n",
    "  - Collection indicator : End of period (E)\n",
    "  - Decimals : Zero (0)\n",
    "- M1 : [Millions]\n",
    "  - Series Key : [BSI.M.U2.N.V.M10.X.1.U2.2300.Z01.E](https://sdw.ecb.europa.eu/quickview.do?SERIES_KEY=BSI.M.U2.N.V.M10.X.1.U2.2300.Z01.E)\n",
    "  - Title : Monetary aggregate M1 vis-a-vis euro area non-MFI excl. central gov. reported by MFI & central gov. & post office giro Inst. in the euro area (stock)\n",
    "  - Title Complement : Euro area (changing composition), Outstanding amounts at the end of the period (stocks), MFIs, central government and post office giro institutions reporting sector - Monetary aggregate M1, All currencies combined - Euro area (changing composition) counterpart, Non-MFIs excluding central government sector, denominated in Euro, data Neither seasonally nor working day adjusted\n",
    "  - Unit : Millions of Euro\n",
    "  - Dataset : BSI : Balance Sheet Items\n",
    "  - Frequency : Monthly\n",
    "  - Reference area : Euro area (changing composition) (U2)\n",
    "  - Collection indicator : End of period (E)\n",
    "  - Decimals : Zero (0)\n",
    "  - ECB Last update : 2022-03-25 10:00\n",
    "- M1 Kontrolle (M1-Curreny + M1-Deposit) : [Millions]\n",
    "\n",
    "ECB Statistical Data Warehouse\n",
    "Navigation Path:\n",
    "Home  >  Money, credit and banking  >  Monetary aggregates  >  [M2 and components](https://sdw.ecb.europa.eu/browse.do?node=9691573)\n",
    "- M2 : [Millions]\n",
    "  - Series Key : [BSI.M.U2.N.V.M20.X.1.U2.2300.Z01.E](https://sdw.ecb.europa.eu/quickview.do?SERIES_KEY=BSI.M.U2.N.V.M20.X.1.U2.2300.Z01.E)\n",
    "  - Title : Monetary aggregate M2 vis-a-vis euro area non-MFI excl. central gov. reported by MFI & central gov. & post office giro Inst. in the euro area (stock)\n",
    "  - Title Complement : Euro area (changing composition), Outstanding amounts at the end of the period (stocks), MFIs, central government and post office giro institutions reporting sector - Monetary aggregate M2, All currencies combined - Euro area (changing composition) counterpart, Non-MFIs excluding central government sector, denominated in Euro, data Neither seasonally nor working day adjusted\n",
    "  - Unit : Millions of Euro\n",
    "  - Dataset : BSI : Balance Sheet Items\n",
    "  - Frequency : Monthly\n",
    "  - Reference area : Euro area (changing composition) (U2)\n",
    "  - Collection indicator : End of period (E)\n",
    "  - Decimals : Zero (0)\n",
    "  - ECB Last update : 2022-03-25 10:00\n",
    "- M2-Anteil (M2 - M1): [Millions]\n",
    "\n",
    "ECB Statistical Data Warehouse\n",
    "Navigation Path:\n",
    "Home  >  Money, credit and banking  >  Monetary aggregates  >  [M3 and components](https://sdw.ecb.europa.eu/browse.do?node=9691574)\n",
    "- M3 : [Millions]\n",
    "  - Series Key : [BSI.M.U2.N.V.M30.X.1.U2.2300.Z01.E](https://sdw.ecb.europa.eu/quickview.do?SERIES_KEY=BSI.M.U2.N.V.M30.X.1.U2.2300.Z01.E)\n",
    "  - Title : Monetary aggregate M3 vis-a-vis euro area non-MFI excl. central gov. reported by MFI & central gov. & post office giro Inst. in the euro area (stock)\n",
    "  - Title Complement : Euro area (changing composition), Outstanding amounts at the end of the period (stocks), MFIs, central government and post office giro institutions reporting sector - Monetary aggregate M3, All currencies combined - Euro area (changing composition) counterpart, Non-MFIs excluding central government sector, denominated in Euro, data Neither seasonally nor working day adjusted\n",
    "  - Unit : Millions of Euro\n",
    "  - Dataset : BSI : Balance Sheet Items\n",
    "  - Frequency : Monthly\n",
    "  - Reference area : Euro area (changing composition) (U2)\n",
    "  - Collection indicator : End of period (E)\n",
    "  - Decimals : Zero (0)\n",
    "  - ECB Last update : 2022-03-25 10:00\n",
    "- M3-Anteil (M3 - M2: [Millions]\n",
    "\n",
    "[Monetary aggregates and MFI balance sheets](https://sdw.ecb.europa.eu/reports.do?node=1000003501)"
   ]
  },
  {
   "cell_type": "markdown",
   "id": "4852972b",
   "metadata": {},
   "source": [
    "### Eurosystem Balance Sheet\n",
    "\n",
    "ECB Statistical Data Warehouse\n",
    "Navigation Path:\n",
    "Home  >  ECB/Eurosystem policy and exchange rates  >  Eurosystem balance sheet  >  [ECB and NCB contributions to the Eurosystem statistical balance sheet](https://sdw.ecb.europa.eu/browse.do?node=9691295)\n",
    "\n",
    "Hier ist ein Link für einen Filter, der die Einträge enthält die wir sehen wollen: \"[[U2] Euro area (changing composition)](https://sdw.ecb.europa.eu/browse.do?org.apache.struts.taglib.html.TOKEN=e47b9c3f2b59a185d0c2e76d21f42593&df=true&ec=&dc=&oc=&pb=&rc=&DATASET=0&DATASET=1&removeItem=&removedItemList=&mergeFilter=&activeTab=BSI&showHide=&REF_AREA.14=U2&MAX_DOWNLOAD_SERIES=500&SERIES_MAX_NUM=50&node=9691295&legendRef=reference&legendPub=published&ajaxTab=true)\".\n",
    "\n",
    "\n",
    "- M0-Currency : [Millions]\n",
    "  - Series Key : [BSI.M.U2.N.C.L10.X.1.Z5.0000.Z01.E](https://sdw.ecb.europa.eu/quickview.do?SERIES_KEY=BSI.M.U2.N.C.L10.X.1.Z5.0000.Z01.E)\n",
    "  - Title : Currency in circulation reported by Eurosystem in the euro area (stock)\n",
    "  - Title Complement : Euro area (changing composition), Outstanding amounts at the end of the period (stocks), Eurosystem reporting sector - Currency in circulation, All currencies combined - World not allocated (geographically) counterpart, Unspecified counterpart sector sector, denominated in Euro, data Neither seasonally nor working day adjusted\n",
    "  - Unit : Millions of Euro\n",
    "  - Dataset : BSI : Balance Sheet Items\n",
    "  - Frequency : Monthly\n",
    "  - Reference area : Euro area (changing composition) (U2)\n",
    "  - Collection indicator : End of period (E)\n",
    "  - Decimals : Zero (0)\n",
    "  - ECB Last update : 2022-03-25 10:00\n",
    "- M0-Currency Non-EU (M0-Currency - M1-Currency): [Millions]\n",
    "- M0-Deposit : [Millions]\n",
    "  - Series Key : [BSI.M.U2.N.C.L20.A.1.U2.0000.Z01.E](https://sdw.ecb.europa.eu/quickview.do?SERIES_KEY=BSI.M.U2.N.C.L20.A.1.U2.0000.Z01.E)\n",
    "  - BSI.M.U2.N.C.L20.A.1.U2.0000.Z01.E\n",
    "  - Title : Deposit liabilities reported by Eurosystem in the euro area (stock)\n",
    "  - Title Complement : Euro area (changing composition), Outstanding amounts at the end of the period (stocks), Eurosystem reporting sector - Deposit liabilities, Total maturity, All currencies combined - Euro area (changing composition) counterpart, Unspecified counterpart sector sector, denominated in Euro, data Neither seasonally nor working day adjusted\n",
    "  - Unit : Millions of Euro\n",
    "  - Dataset : BSI : Balance Sheet Items\n",
    "  - Frequency : Monthly\n",
    "  - Reference area : Euro area (changing composition) (U2)\n",
    "  - Collection indicator : End of period (E)\n",
    "  - Decimals : Zero (0)\n",
    "  - ECB Last update : 2022-03-25 10:00\n",
    "\n",
    "[Statistics Bulletin: Table in chapter 02, section 01 (T0201)](https://sdw.ecb.europa.eu/reports.do?node=10000028)"
   ]
  },
  {
   "cell_type": "code",
   "execution_count": 4,
   "id": "d9e80890-be86-46f6-bdf4-0fd03b79995b",
   "metadata": {},
   "outputs": [
    {
     "name": "stdout",
     "output_type": "stream",
     "text": [
      ",,obs. status\n",
      "2021Q4,3250932.01,Normal value (A)\n",
      "2021Q3,3105608.61,Normal value (A)\n",
      "2021Q2,3016052.98,Normal value (A)\n",
      "2021Q1,2882932.73,Normal value (A)\n",
      "2020Q4,3024412.35,Normal value (A)\n",
      "2020Q3,2901145.88,Normal value (A)\n",
      "2020Q2,2610014.46,Normal value (A)\n",
      "2020Q1,\n",
      "dom_product\t: MNA.Q.N.I8.W2.S1.S1.B.B1GQ._Z._Z._Z.EUR.V.N\n",
      "key_interest\t: FM.D.U2.EUR.4F.KR.MLFR.LEV\n",
      "m1_currency\t: BSI.M.U2.N.V.L10.X.1.U2.2300.Z01.E\n",
      "m1_deposit\t: BSI.M.U2.N.V.L21.A.1.U2.2300.Z01.E\n",
      "m1_aggregate\t: BSI.M.U2.N.V.M10.X.1.U2.2300.Z01.E\n",
      "m2_aggregate\t: BSI.M.U2.N.V.M20.X.1.U2.2300.Z01.E\n",
      "m3_aggregate\t: BSI.M.U2.N.V.M30.X.1.U2.2300.Z01.E\n",
      "m0_currency\t: BSI.M.U2.N.C.L10.X.1.Z5.0000.Z01.E\n",
      "m0_deposit\t: BSI.M.U2.N.C.L20.A.1.U2.0000.Z01.E\n",
      "\"./m0_deposit.csv\"\n",
      "\"./m3_aggregate.csv\"\n",
      "\"./dom_product.csv\"\n",
      "\"./m2_aggregate.csv\"\n",
      "\"./Geldkurve_Eurosystem_balance_sheet.ods\"\n",
      "\"./geld_kurve.ipynb\"\n",
      "\"./Geldkurve.ods\"\n",
      "\"./Geldkurve_National_accounts-main_aggregates.ods\"\n",
      "\"./m1_deposit.csv\"\n",
      "\"./Geldkurve_Monetary_aggregates.ods\"\n",
      "\"./.ipynb_checkpoints\"\n",
      "\"./m0_currency.csv\"\n",
      "\"./m1_aggregate.csv\"\n",
      "\"./m1_currency.csv\"\n",
      "\"./key_interest.csv\"\n"
     ]
    },
    {
     "data": {
      "text/plain": [
       "()"
      ]
     },
     "execution_count": 4,
     "metadata": {},
     "output_type": "execute_result"
    }
   ],
   "source": [
    ":dep ureq = {version = \"0.11.4\"}\n",
    "\n",
    "let geld_data = [\n",
    "    (\"dom_product\", \"MNA.Q.N.I8.W2.S1.S1.B.B1GQ._Z._Z._Z.EUR.V.N\"),\n",
    "    (\"key_interest\", \"FM.D.U2.EUR.4F.KR.MLFR.LEV\"),\n",
    "    (\"m1_currency\", \"BSI.M.U2.N.V.L10.X.1.U2.2300.Z01.E\"),\n",
    "    (\"m1_deposit\", \"BSI.M.U2.N.V.L21.A.1.U2.2300.Z01.E\"),\n",
    "    (\"m1_aggregate\", \"BSI.M.U2.N.V.M10.X.1.U2.2300.Z01.E\"),\n",
    "    (\"m2_aggregate\", \"BSI.M.U2.N.V.M20.X.1.U2.2300.Z01.E\"),\n",
    "    (\"m3_aggregate\", \"BSI.M.U2.N.V.M30.X.1.U2.2300.Z01.E\"),\n",
    "    (\"m0_currency\", \"BSI.M.U2.N.C.L10.X.1.Z5.0000.Z01.E\"),\n",
    "    (\"m0_deposit\", \"BSI.M.U2.N.C.L20.A.1.U2.0000.Z01.E\"),\n",
    "];\n",
    "\n",
    "for (series_name, series_key) in geld_data {\n",
    "    println!(\"{}\\t: {}\", series_name, series_key);\n",
    "    \n",
    "    let res = ureq::get(\n",
    "        format!(\n",
    "            \"https://sdw.ecb.europa.eu/quickviewexport.do?SERIES_KEY={}&type=csv\",\n",
    "            series_key,)\n",
    "        .as_str()\n",
    "    )\n",
    "    .call()\n",
    "    .into_string()\n",
    "    .unwrap();\n",
    "    \n",
    "    let mut csv_file = std::fs::File::create(\n",
    "        format!(\"{}.csv\", series_name)\n",
    "    ).unwrap();\n",
    "    std::io::Write::write_all(\n",
    "        &mut csv_file, \n",
    "        res.as_bytes()\n",
    "    ).unwrap();\n",
    "}\n",
    "\n",
    "for dir_entry in std::fs::read_dir(\".\").unwrap() {\n",
    "    println!(\"{:?}\", dir_entry.unwrap().path());\n",
    "}"
   ]
  },
  {
   "cell_type": "markdown",
   "id": "98edbabc",
   "metadata": {},
   "source": [
    "### Datum und Zeit in Rust\n",
    "\n",
    "Wie arbeitet man in Rust mit Datum und Zeit?\n",
    "- Es gibt ein Modul in der Standardbibliothek: [std::time](https://doc.rust-lang.org/std/time/index.html).\n",
    "- Eine Websuche führt einen zum [Crate `chrono`](https://docs.rs/chrono/0.4.19/chrono/). \n",
    "> It aims to be a feature-complete superset of the time library. \n",
    "  - Für das Einlesen und Auslesen von Datum und Zeit hat `chrono` das [Modul `chrono::format`](https://docs.rs/chrono/0.4.19/chrono/format/index.html).\n",
    "  - Diese Model verwendet einen [String-Formatierer](https://docs.rs/chrono/0.4.19/chrono/format/strftime/index.html#specifiers).\n",
    "  - Für die meisten Fälle sollen [DateTime::format](https://docs.rs/chrono/0.4.19/chrono/struct.DateTime.html#method.format) und [DateTime::parse_from_str](https://docs.rs/chrono/0.4.19/chrono/struct.DateTime.html#method.parse_from_str) ausreichen.\n",
    "- Da ich mit Quartalen arbeiten möchte, fand ich in diesem [Webpost](https://stackoverflow.com/questions/62947343/nth-day-of-every-mth-month-in-rust) einen Hinweis auf [Crate `kronos`](https://crates.io/crates/kronos), der wiederum von `chrono` abhängt. Im Vergleich zu `chrono` ist die \n",
    "> Kronos is a tool for calculating date/times.\n",
    "  - Interessant sind die Aufzählung der Datum/Zeit Einteilung [kronos::Grain](https://docs.rs/kronos/0.1.5/kronos/enum.Grain.html)\n",
    "    - Second, Minute, Hour, \n",
    "    - Day, Week, Month,\n",
    "    - Quarter, Half, Year,\n",
    "    - Lustrum, Decade, Century, Millenium,\n",
    "  - als auch die Aufzählung der Jahreszeiten [kronos::Season](https://docs.rs/kronos/0.1.5/kronos/enum.Season.html)\n",
    "    - Spring, Summer, Autumn, Winter,\n"
   ]
  },
  {
   "cell_type": "markdown",
   "id": "d230a196",
   "metadata": {},
   "source": [
    "#### std::time"
   ]
  },
  {
   "cell_type": "code",
   "execution_count": 5,
   "id": "a7c9fcea",
   "metadata": {},
   "outputs": [
    {
     "name": "stdout",
     "output_type": "stream",
     "text": [
      "2\n"
     ]
    },
    {
     "data": {
      "text/plain": [
       "()"
      ]
     },
     "execution_count": 5,
     "metadata": {},
     "output_type": "execute_result"
    }
   ],
   "source": [
    "let now = std::time::SystemTime::now();\n",
    "\n",
    "// we sleep for 2 seconds\n",
    "std::thread::sleep(std::time::Duration::new(2, 0));\n",
    "// it prints '2'\n",
    "match now.elapsed() { \n",
    "    // SystemTime::elapsed(&self) -> Result<Duration, SystemTimeError>\n",
    "    Ok(duration) => { println!(\"{}\", duration.as_secs()); }\n",
    "    Err(error) => { panic!(\"Error: {:?}\", error); }\n",
    "}"
   ]
  },
  {
   "cell_type": "code",
   "execution_count": 6,
   "id": "c32e4496",
   "metadata": {
    "scrolled": true
   },
   "outputs": [
    {
     "name": "stdout",
     "output_type": "stream",
     "text": [
      "1970-01-01 00:00:00 UTC was 1649592116 seconds ago!\n"
     ]
    },
    {
     "data": {
      "text/plain": [
       "()"
      ]
     },
     "execution_count": 6,
     "metadata": {},
     "output_type": "execute_result"
    }
   ],
   "source": [
    "match std::time::SystemTime::now().duration_since(std::time::SystemTime::UNIX_EPOCH) {\n",
    "    Ok(n) => println!(\"1970-01-01 00:00:00 UTC was {} seconds ago!\", n.as_secs()),\n",
    "    Err(_) => panic!(\"SystemTime before UNIX EPOCH!\"),\n",
    "}"
   ]
  },
  {
   "cell_type": "markdown",
   "id": "fd30863e",
   "metadata": {},
   "source": [
    "#### chronos"
   ]
  },
  {
   "cell_type": "code",
   "execution_count": 7,
   "id": "d0e3e63d",
   "metadata": {
    "scrolled": true
   },
   "outputs": [
    {
     "name": "stdout",
     "output_type": "stream",
     "text": [
      "UTC time now: 2022-04-10 12:02:06.474331613 UTC\n",
      "2003-07-01 10:52:37 +02:00\n",
      "1996-12-19 16:39:57 -08:00\n",
      "1994-08-05 08:00:00 +00:00\n",
      "23:56:04\n",
      "2015-09-05\n",
      "2015-09-05 23:56:04\n",
      "LOCAL time now: 2022-04-10 14:02:06.474364413 +02:00\n"
     ]
    },
    {
     "data": {
      "text/plain": [
       "()"
      ]
     },
     "execution_count": 7,
     "metadata": {},
     "output_type": "execute_result"
    }
   ],
   "source": [
    ":dep chrono = {version = \"0.4\"}\n",
    "// Source: https://rust-lang-nursery.github.io/rust-cookbook/datetime.html\n",
    "\n",
    "let utc: chrono::DateTime<chrono::Utc> = chrono::Utc::now();\n",
    "println!(\"UTC time now: {}\", utc);\n",
    "\n",
    "let rfc2822 = chrono::DateTime::parse_from_rfc2822(\"Tue, 1 Jul 2003 10:52:37 +0200\")?;\n",
    "println!(\"{}\", rfc2822);\n",
    "\n",
    "let rfc3339 = chrono::DateTime::parse_from_rfc3339(\"1996-12-19T16:39:57-08:00\")?;\n",
    "println!(\"{}\", rfc3339);\n",
    "\n",
    "let custom = chrono::DateTime::parse_from_str(\"5.8.1994 8:00 am +0000\", \"%d.%m.%Y %H:%M %P %z\")?;\n",
    "println!(\"{}\", custom);\n",
    "\n",
    "let time_only = chrono::NaiveTime::parse_from_str(\"23:56:04\", \"%H:%M:%S\")?;\n",
    "println!(\"{}\", time_only);\n",
    "\n",
    "let date_only = chrono::NaiveDate::parse_from_str(\"2015-09-05\", \"%Y-%m-%d\")?;\n",
    "println!(\"{}\", date_only);\n",
    "\n",
    "let no_timezone = chrono::NaiveDateTime::parse_from_str(\"2015-09-05 23:56:04\", \"%Y-%m-%d %H:%M:%S\")?;\n",
    "println!(\"{}\", no_timezone);\n",
    "\n",
    "let local: chrono::DateTime<chrono::Local> = chrono::Local::now();\n",
    "println!(\"LOCAL time now: {}\", local)"
   ]
  },
  {
   "cell_type": "markdown",
   "id": "1d942c33",
   "metadata": {},
   "source": [
    "#### kronos"
   ]
  },
  {
   "cell_type": "code",
   "execution_count": 8,
   "id": "fce932e9",
   "metadata": {},
   "outputs": [
    {
     "name": "stdout",
     "output_type": "stream",
     "text": [
      "2019-02-05 00:00:00\n",
      "Range { start: 2019-02-11T00:00:00, end: 2019-02-12T00:00:00, grain: Day }\n",
      "Range { start: 2019-01-01T00:00:00, end: 2019-04-01T00:00:00, grain: Quarter }\n",
      "Range { start: 2018-10-01T00:00:00, end: 2019-01-01T00:00:00, grain: Quarter }\n",
      "Range { start: 2019-03-21T00:00:00, end: 2019-06-21T00:00:00, grain: Day }\n",
      "Range { start: 2018-03-21T00:00:00, end: 2018-06-21T00:00:00, grain: Day }\n"
     ]
    }
   ],
   "source": [
    ":dep kronos = {version = \"0.1.5\"}\n",
    "\n",
    "// Reference time: Tuesday, 5th Feb 2019\n",
    "let date_time = chrono::NaiveDate::from_ymd(2019, 2, 5).and_hms(0, 0, 0);\n",
    "println!(\"{}\", date_time);\n",
    "\n",
    "// fn future(&self, t0: &NaiveDateTime) -> Box<dyn Iterator<Item = Range>>\n",
    "// fn past(&self, t0: &NaiveDateTime) -> Box<dyn Iterator<Item = Range>>\n",
    "\n",
    "// First Monday after a date reference time\n",
    "println!(\"{:?}\", kronos::TimeSequence::future(\n",
    "    &kronos::Weekday(1), \n",
    "    &date_time)\n",
    "    .next()\n",
    "    .unwrap());\n",
    "\n",
    "println!(\"{:?}\", kronos::TimeSequence::future(\n",
    "    &kronos::Grains(kronos::Grain::Quarter), \n",
    "    &date_time)\n",
    "    .next()\n",
    "    .unwrap());\n",
    "println!(\"{:?}\", kronos::TimeSequence::past(\n",
    "    &kronos::Grains(kronos::Grain::Quarter), \n",
    "    &date_time)\n",
    "    .next()\n",
    "    .unwrap());\n",
    "\n",
    "// kronos has no documentation, looks as if BOOL stands for north(true) and south(false) half of earth\n",
    "println!(\"{:?}\", kronos::TimeSequence::future(\n",
    "    &kronos::Seasons(kronos::Season::Spring, true), \n",
    "    &date_time)\n",
    "    .next()\n",
    "    .unwrap());\n",
    "println!(\"{:?}\", kronos::TimeSequence::past(\n",
    "    &kronos::Seasons(kronos::Season::Spring, true), \n",
    "    &date_time)\n",
    "    .next()\n",
    "    .unwrap());\n"
   ]
  },
  {
   "cell_type": "code",
   "execution_count": null,
   "id": "2fd89cc3",
   "metadata": {},
   "outputs": [],
   "source": []
  }
 ],
 "metadata": {
  "kernelspec": {
   "display_name": "Rust",
   "language": "rust",
   "name": "rust"
  },
  "language_info": {
   "codemirror_mode": "rust",
   "file_extension": ".rs",
   "mimetype": "text/rust",
   "name": "Rust",
   "pygment_lexer": "rust",
   "version": ""
  }
 },
 "nbformat": 4,
 "nbformat_minor": 5
}
