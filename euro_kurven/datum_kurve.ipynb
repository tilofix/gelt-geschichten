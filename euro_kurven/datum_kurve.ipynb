{
 "cells": [
  {
   "cell_type": "markdown",
   "metadata": {},
   "source": [
    "## Datum in der Geldkurve"
   ]
  },
  {
   "cell_type": "markdown",
   "metadata": {},
   "source": [
    "### Analyse\n",
    "\n",
    "Ich benötige ein Funktion zum Lesen von Daten per Quartal, per Monat oder per Tag, die\n",
    "- einen Quartalswert aus den Daten \"per Quartal\" eins-zu-eins übernimmt\n",
    "- einen Quartalswert aus den Daten \"per Monat\" aus den drei passenden Monaten als Mittel erzeugt\n",
    "- einen Quartalswert aus den Daten \"per Tag\" aus den Tagen der drei passenden Monate als Mittel erzeugt\n",
    "\n",
    "Ein Mittelwert für ein Quartal aus \"per Monat\"\n",
    "- Mittelwerte der zum Quartal gehörenden Monate ergeben einen Quartalsmittelwert\n",
    "- Q1 : Jan, Feb, Mar\n",
    "- Q2 : Apr, May, Jun\n",
    "- Q3 : Jul, Aug, Sep\n",
    "- Q4 : Oct, Nov, Dec\n",
    "\n",
    "Ein Mittelwert für ein Quartal aus \"per Tag\"\n",
    "- Mittelwerte der zu einem Monat gehörenden Tage ergeben einen Monatsmittelwert, \n",
    "- dann Mittelwerte der zum Quartal gehörenden Monate ergeben einen Quartalsmittelwert\n",
    "\n",
    "Wenn ich eine Serie von Daten \"per Monat\" durchlaufe, brauche ich eine Funktion, \n",
    "- die das aktuelle Quartal dieses Monats bereitstellt, \n",
    "- die zyklisch übergebenen Werte für je einen Monat aufsummiert, \n",
    "- und am Ende des Quartals den Mittelwert bildet, indem die Summe durch die Anzahl der zyklisch übergebenen Werte geteilt wird. In diesem Falle werden es in der Regel 4 Werte sein. Wie mit einem unvollständigen Quartal verfahren zu verfahren ist, muss noch festgelegt werden.\n",
    "\n",
    "Wenn ich eine Serie von Daten \"per Tag\" durchlaufe, brauche ich eine Funktion,\n",
    "- die den aktuellen Monat dieses Tages bereitstellt,\n",
    "- die zyklisch übergebenen Werte für je einen Tag aufsummiert,\n",
    "- und am Ende des Monats den Mittelwert bildet, indem die Summe durch die Anzahl der zyklisch übergebenen Werte geteilt wird. In diesem Falle werden es in der Regel 31, 30, 29, oder 28 Werte sein. Wie mit einem unvollständigen Monat verfahren zu verfahren ist, muss noch festgelegt werden.\n",
    "\n",
    "Mit folgenden Datum-Zeichenketten ist umzugehen\n",
    "- Quarterly : \"2021-Q4\"\n",
    "- Monthly : \"2022-02\"\n",
    "- Daily : \"2022-04-12\""
   ]
  },
  {
   "cell_type": "code",
   "execution_count": null,
   "metadata": {},
   "outputs": [],
   "source": []
  }
 ],
 "metadata": {
  "kernelspec": {
   "display_name": "Rust",
   "language": "rust",
   "name": "rust"
  },
  "language_info": {
   "codemirror_mode": "rust",
   "file_extension": ".rs",
   "mimetype": "text/rust",
   "name": "Rust",
   "pygment_lexer": "rust",
   "version": ""
  }
 },
 "nbformat": 4,
 "nbformat_minor": 2
}
